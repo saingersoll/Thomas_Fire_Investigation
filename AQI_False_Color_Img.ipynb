{
 "cells": [
  {
   "cell_type": "markdown",
   "id": "efd64544-0d67-427f-8dd7-37ead6f3f99c",
   "metadata": {},
   "source": [
    "# Investigation on the 2017 Thomas Fire\n",
    "\n",
    "\n",
    "\n",
    "\n",
    "\n",
    "### About the data\n",
    "\n",
    "#### AQI Data\n",
    "In this task you will use [Air Quality Index (AQI)](https://www.airnow.gov/aqi/aqi-basics/) data from the [US Environmental Protection Agency](https://www.epa.gov) to visualize the impact on the AQI of the 2017 [Thomas Fire](https://en.wikipedia.org/wiki/Thomas_Fire) in Santa Barbara County. \n",
    "\n",
    "#### False Color Image Data\n",
    "A simplified collection of bands (red, green, blue, near-infrared and shortwave infrared) from the Landsat Collection 2 Level-2 atmosperically corrected surface reflectance data, collected by the Landsat 8 satellite. \n",
    "\n",
    "Information about Landsat bands from USGS:\n",
    "\n",
    "- [What are the band designations for the Landsat satellites?](https://www.usgs.gov/faqs/what-are-band-designations-landsat-satellites)\n",
    "\n",
    "-[Common Landsat Band Combinations](https://www.usgs.gov/media/images/common-landsat-band-combinations)\n",
    "\n",
    "-[How do I use a scale factor with Landsat Level-2 science products?](https://www.usgs.gov/faqs/how-do-i-use-a-scale-factor-landsat-level-2-science-products)\n",
    "\n",
    "\n",
    "The data was accessed and pre-processed in the Microsoft Planetary Computer to remove data outside land and coarsen the spatial resolution ([Landsat Collection in MPC](https://planetarycomputer.microsoft.com/dataset/landsat-c2-l2)). Data should be used for visualization purposes only. \n",
    "\n",
    "**Second dataset**\n",
    "\n",
    "A shapefile of fire perimeters in California during 2017. \n",
    "The [complete file can be accessed in the CA state geoportal](https://gis.data.ca.gov/datasets/CALFIRE-Forestry::california-fire-perimeters-all-1/about)."
   ]
  },
  {
   "cell_type": "code",
   "execution_count": null,
   "id": "7fc4476c-f02b-4678-9047-1ed665df599f",
   "metadata": {},
   "outputs": [],
   "source": [
    "import pandas as pd                                                                                         # reading in libraries\n",
    "import matplotlib.pyplot as plt\n",
    "\n",
    "aqi_17 = pd.read_csv('https://aqs.epa.gov/aqsweb/airdata/daily_aqi_by_county_2017.zip')                     # reading in data\n",
    "aqi_18 = pd.read_csv('https://aqs.epa.gov/aqsweb/airdata/daily_aqi_by_county_2018.zip')   \n",
    "\n",
    "aqi = pd.concat([aqi_17, aqi_18])                                                                          # glueing the datasets together\n",
    "\n",
    "aqi.columns = aqi.columns.str.lower()   \n",
    "aqi.columns = aqi.columns.str.replace(' ','_')                                                 \n",
    "                                                                                                           #  .str.replace(' ','_') to replace the space for _\n",
    "    \n",
    "aqi_sb = aqi.loc[aqi.county_name == 'Santa Barbara']                                                       # selecting SB county\n",
    "aqi_sb = aqi_sb.iloc[:, 4:]                                                                                # isolating desired columns\n",
    "\n",
    "aqi_sb.date = pd.to_datetime(aqi_sb.date)                                                                  # converting the date type to datetimes64\n",
    "aqi_sb = aqi_sb.set_index('date')                                                                          # updating the index to the data column\n",
    "\n",
    "aqi_sb['five_day_average'] = aqi_sb.aqi.rolling('5D').mean()                                               # provides rolling window calculations of the mean aqi over 5 day periods                                                                                                         # get a pd.Series as ouput\n",
    "    \n",
    "colors = {'aqi':'#F48FB1',                                                                                 # creates a stored object for the y-variables of interest associated to specific colors\n",
    "         'five_day_average':'purple'}\n",
    "\n",
    "aqi_sb.plot(y = ['aqi','five_day_average'],                                                                # calls specific columns of interest to plot\n",
    "           color = colors,                                                                                 # calls object of assigned colors for y-values\n",
    "            title='AQI Assessment of Santa Barbara County 17-18',                                          # adds title\n",
    "            xlabel='Date',                                                                                 # adds x-axis label\n",
    "            ylabel='Air Quality Index Values (ppm)'                                                       # adds y-axis label\n",
    "           )\n",
    "\n",
    "# a spike in air pollutants from the Thomas fire is observed between Dec. '17 and Jan '18'    "
   ]
  }
 ],
 "metadata": {
  "kernelspec": {
   "display_name": "Anaconda 3 (Base)",
   "language": "python",
   "name": "base"
  },
  "language_info": {
   "codemirror_mode": {
    "name": "ipython",
    "version": 3
   },
   "file_extension": ".py",
   "mimetype": "text/x-python",
   "name": "python",
   "nbconvert_exporter": "python",
   "pygments_lexer": "ipython3",
   "version": "3.9.13"
  }
 },
 "nbformat": 4,
 "nbformat_minor": 5
}
